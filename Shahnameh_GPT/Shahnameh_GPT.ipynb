{
  "nbformat": 4,
  "nbformat_minor": 0,
  "metadata": {
    "colab": {
      "provenance": []
    },
    "kernelspec": {
      "name": "python3",
      "display_name": "Python 3"
    },
    "language_info": {
      "name": "python"
    }
  },
  "cells": [
    {
      "cell_type": "code",
      "source": [
        "from google.colab import drive\n",
        "drive.mount('/content/drive')"
      ],
      "metadata": {
        "colab": {
          "base_uri": "https://localhost:8080/"
        },
        "id": "N0PIQEMDoqmq",
        "outputId": "d18e046e-356b-4281-850e-4ceb1fd8d181"
      },
      "execution_count": 5,
      "outputs": [
        {
          "output_type": "stream",
          "name": "stdout",
          "text": [
            "Mounted at /content/drive\n"
          ]
        }
      ]
    },
    {
      "cell_type": "code",
      "execution_count": 7,
      "metadata": {
        "colab": {
          "base_uri": "https://localhost:8080/"
        },
        "id": "b5o8ZPYllsal",
        "outputId": "9de9aeb2-1fbf-4cb5-ead2-cd213f851f6b"
      },
      "outputs": [
        {
          "output_type": "stream",
          "name": "stdout",
          "text": [
            "length of dataset in characters:  2278054\n"
          ]
        }
      ],
      "source": [
        "with open('drive/MyDrive/shahnameh.txt','r',encoding='utf-8') as sh:\n",
        "    text = sh.read()\n",
        "print(\"length of dataset in characters: \", len(text))\n",
        "chars = sorted(list(set(text)))\n",
        "vocab_size = len(chars)\n",
        "\n",
        "# create a mapping from characters to integers\n",
        "stoi = { ch:i for i,ch in enumerate(chars) }\n",
        "itos = { i:ch for i,ch in enumerate(chars) }\n",
        "encode = lambda s: [stoi[c] for c in s] # encoder: take a string, output a list of integers\n",
        "decode = lambda l: ''.join([itos[i] for i in l]) # decoder: take a list of integers, output a string"
      ]
    },
    {
      "cell_type": "code",
      "source": [
        "# let's now encode the entire text dataset and store it into a torch.Tensor\n",
        "import torch\n",
        "data = torch.tensor(encode(text), dtype=torch.long)\n",
        "print(data.shape, data.dtype)\n",
        "print(data[:1000])"
      ],
      "metadata": {
        "colab": {
          "base_uri": "https://localhost:8080/"
        },
        "id": "SRyU2TBtoNjl",
        "outputId": "aeae0d2f-c847-4ff4-ea0e-8dab1cb7b4e4"
      },
      "execution_count": 8,
      "outputs": [
        {
          "output_type": "stream",
          "name": "stdout",
          "text": [
            "torch.Size([2278054]) torch.int64\n",
            "tensor([ 33,  34,  47,  44,  49,  33,  51,  37,  45,   1,  38,  37,  50,  36,\n",
            "         47,  55,  51,  41,   0,   0,   0,  51,  70,  63,  70,  76,  63,  75,\n",
            "         67,  70,   0,  52,  70,  67,   1,  48,  67,  80,  81,  71,  63,  76,\n",
            "          1,  34,  77,  77,  73,   1,  77,  68,   1,  43,  71,  76,  69,  81,\n",
            "          0,   0,   0,  52,  80,  63,  76,  81,  74,  63,  82,  67,  66,   1,\n",
            "         64,  87,   1,  36,  41,  35,  43,   1,  36,  33,  54,  41,  51,   0,\n",
            "         38,  77,  80,  67,  85,  77,  80,  66,   1,  64,  87,   1,  33,  58,\n",
            "         33,  50,   1,  46,  33,  38,  41,  51,  41,   0,   0,   0,   0,   0,\n",
            "          0,  48,  37,  46,  49,  53,  41,  46,   1,  35,  44,  33,  51,  51,\n",
            "         41,  35,  51,   0,  51,  40,  33,  40,  46,  33,  45,  37,  40,   0,\n",
            "          0,   0,  33,  34,  47,  44,  49,  33,  51,  37,  45,   1,  38,  37,\n",
            "         50,  36,  47,  85,  81,  41,   1,  55,  63,  81,   1,  64,  77,  80,\n",
            "         76,   1,  71,  76,   1,  43,  70,  77,  80,  63,  81,  63,  76,   1,\n",
            "         71,  76,   1,  63,   1,  84,  71,  74,  74,  63,  69,  67,   1,  76,\n",
            "         67,  63,  80,   1,  52,  83,  81,  12,   1,  71,  76,   1,  25,  20,\n",
            "         16,   1,  65,  67,  14,   0,  40,  71,  81,   1,  69,  80,  67,  63,\n",
            "         82,   1,  67,  78,  71,  65,   1,  82,  70,  67,   1,  51,  70,  63,\n",
            "         70,  76,  63,  75,  67,  70,  12,   1,  82,  77,   1,  85,  70,  71,\n",
            "         65,  70,   1,  70,  67,   1,  66,  67,  84,  77,  82,  67,  66,   1,\n",
            "         75,  77,  81,  82,   1,  77,  68,   1,  70,  71,  81,   1,  63,  66,\n",
            "         83,  74,  82,   0,  74,  71,  68,  67,  12,   1,  85,  63,  81,   1,\n",
            "         77,  80,  71,  69,  71,  76,  63,  74,  74,  87,   1,  65,  77,  75,\n",
            "         78,  77,  81,  67,  66,   1,  68,  77,  80,   1,  82,  70,  67,   1,\n",
            "         51,  63,  75,  63,  76,  71,  66,   1,  78,  80,  71,  76,  65,  67,\n",
            "         81,   1,  77,  68,   1,  43,  70,  77,  80,  63,  81,  63,  76,  12,\n",
            "          1,  85,  70,  77,   0,  85,  67,  80,  67,   1,  82,  70,  67,   1,\n",
            "         65,  70,  71,  67,  68,   1,  71,  76,  81,  82,  71,  69,  63,  82,\n",
            "         77,  80,  81,   1,  77,  68,   1,  82,  70,  67,   1,  80,  67,  84,\n",
            "         71,  84,  63,  74,   1,  77,  68,   1,  48,  67,  80,  81,  71,  63,\n",
            "         76,   1,  65,  83,  74,  82,  83,  80,  63,  74,   1,  82,  80,  63,\n",
            "         66,  71,  82,  71,  77,  76,  81,   0,  63,  68,  82,  67,  80,   1,\n",
            "         82,  70,  67,   1,  33,  80,  63,  64,   1,  65,  77,  76,  79,  83,\n",
            "         67,  81,  82,  14,   1,  36,  83,  80,  71,  76,  69,   1,  38,  67,\n",
            "         80,  66,  77,  85,  81,  71, 102,  81,   1,  74,  71,  68,  67,  82,\n",
            "         71,  75,  67,  12,   1,  82,  70,  67,   1,  51,  63,  75,  63,  76,\n",
            "         71,  66,   0,  66,  87,  76,  63,  81,  82,  87,   1,  85,  63,  81,\n",
            "          1,  65,  77,  76,  79,  83,  67,  80,  67,  66,   1,  64,  87,   1,\n",
            "         82,  70,  67,   1,  39,  70,  63,  88,  76,  63,  84,  71,  66,   1,\n",
            "         52,  83,  80,  73,  81,  14,   1,  44,  67,  69,  67,  76,  66,   1,\n",
            "         70,  63,  81,   1,  71,  82,   1,  82,  70,  63,  82,   0,  38,  67,\n",
            "         80,  66,  77,  85,  81,  71, 102,  81,   1,  74,  71,  68,  67,  85,\n",
            "         77,  80,  73,   1,  85,  63,  81,   1,  76,  77,  82,   1,  63,  78,\n",
            "         78,  80,  67,  65,  71,  63,  82,  67,  66,   1,  64,  87,   1,  43,\n",
            "         71,  76,  69,   1,  45,  63,  70,  75,  83,  66,   1,  77,  68,   1,\n",
            "         39,  70,  63,  88,  76,  67,  70,  14,   0,  40,  67,   1,  71,  81,\n",
            "          1,  81,  63,  71,  66,   1,  82,  77,   1,  70,  63,  84,  67,   1,\n",
            "         66,  71,  67,  66,   1,  63,  80,  77,  83,  76,  66,   1,  17,  16,\n",
            "         18,  16,   1,  71,  76,   1,  78,  77,  84,  67,  80,  82,  87,   1,\n",
            "         63,  76,  66,   1,  67,  75,  64,  71,  82,  82,  67,  80,  67,  66,\n",
            "          1,  64,  87,   1,  80,  77,  87,  63,  74,   0,  76,  67,  69,  74,\n",
            "         67,  65,  82,  12,   1,  82,  70,  77,  83,  69,  70,   1,  65,  77,\n",
            "         76,  68,  71,  66,  67,  76,  82,   1,  77,  68,   1,  70,  71,  81,\n",
            "          1,  78,  77,  67,  75, 102,  81,   1,  83,  74,  82,  71,  75,  63,\n",
            "         82,  67,   1,  68,  63,  75,  67,  14,   0,   0,   0,  33,   1,  38,\n",
            "         67,  74,  74,  77,  85,   1,  77,  68,   1,  82,  70,  67,   1,  50,\n",
            "         77,  87,  63,  74,   1,  51,  77,  65,  71,  67,  82,  87,   1,  77,\n",
            "         68,   1,  44,  71,  82,  67,  80,  63,  82,  83,  80,  67,  12,   1,\n",
            "         78,  71,  65,  73,   1,  78,  63,  84,  71,  81,   1,  71,  81,   1,\n",
            "         37,  75,  67,  80,  71,  82,  83,  81,   0,  48,  80,  77,  68,  67,\n",
            "         81,  81,  77,  80,   1,  77,  68,   1,  48,  67,  80,  81,  71,  63,\n",
            "         76,   1,  63,  82,   1,  47,  70,  71,  77,   1,  51,  82,  63,  82,\n",
            "         67,   1,  53,  76,  71,  84,  67,  80,  81,  71,  82,  87,  14,   1,\n",
            "         40,  71,  81,   1,  77,  82,  70,  67,  80,   1,  82,  80,  63,  76,\n",
            "         81,  74,  63,  82,  71,  77,  76,  81,   0,  68,  80,  77,  75,   1,\n",
            "         48,  67,  80,  81,  71,  63,  76,   1,  71,  76,  65,  74,  83,  66,\n",
            "         67,   1,  34,  77,  80,  80,  77,  85,  67,  66,   1,  55,  63,  80,\n",
            "         67,  26,   1,  45,  67,  66,  71,  67,  84,  63,  74,   1,  48,  67,\n",
            "         80,  81,  71,  63,  76,   1,  37,  78,  71,  69,  80,  63,  75,  81,\n",
            "         12,   1,  52,  70,  67,   0,  44,  67,  69,  67,  76,  66,   1,  77,\n",
            "         68,   1,  51,  67,  87,  63,  84,  63,  81,  70,  12,   1,  54,  71,\n",
            "         81,   1,  63,  76,  66,   1,  50,  63,  75,  71,  76,  12,   1,  38,\n",
            "         63,  65,  67,  81,   1,  77])\n"
          ]
        }
      ]
    },
    {
      "cell_type": "code",
      "source": [
        "# Let's now split up the data into train and validation sets\n",
        "n = int(0.8*len(data)) # first 80% will be train, rest val\n",
        "train_data = data[:n]\n",
        "val_data = data[n:]"
      ],
      "metadata": {
        "id": "m5qoAif_pqFQ"
      },
      "execution_count": 9,
      "outputs": []
    },
    {
      "cell_type": "code",
      "source": [
        "block_size = 8\n",
        "train_data[:block_size+1]"
      ],
      "metadata": {
        "colab": {
          "base_uri": "https://localhost:8080/"
        },
        "id": "YWzQNu6rqdya",
        "outputId": "3ecdfd02-5516-4ba0-9206-aee454c4e2c5"
      },
      "execution_count": 10,
      "outputs": [
        {
          "output_type": "execute_result",
          "data": {
            "text/plain": [
              "tensor([33, 34, 47, 44, 49, 33, 51, 37, 45])"
            ]
          },
          "metadata": {},
          "execution_count": 10
        }
      ]
    },
    {
      "cell_type": "code",
      "source": [
        "x = train_data[:block_size]\n",
        "y = train_data[1:block_size+1]\n",
        "for t in range(block_size):\n",
        "    context = x[:t+1]\n",
        "    target = y[t]\n",
        "    print(f\"when input is {context} the target: {target}\")"
      ],
      "metadata": {
        "colab": {
          "base_uri": "https://localhost:8080/"
        },
        "id": "OCCza1X-qf4K",
        "outputId": "fb2cdc0f-ddca-4962-9614-6bf5cc2f978a"
      },
      "execution_count": 11,
      "outputs": [
        {
          "output_type": "stream",
          "name": "stdout",
          "text": [
            "when input is tensor([33]) the target: 34\n",
            "when input is tensor([33, 34]) the target: 47\n",
            "when input is tensor([33, 34, 47]) the target: 44\n",
            "when input is tensor([33, 34, 47, 44]) the target: 49\n",
            "when input is tensor([33, 34, 47, 44, 49]) the target: 33\n",
            "when input is tensor([33, 34, 47, 44, 49, 33]) the target: 51\n",
            "when input is tensor([33, 34, 47, 44, 49, 33, 51]) the target: 37\n",
            "when input is tensor([33, 34, 47, 44, 49, 33, 51, 37]) the target: 45\n"
          ]
        }
      ]
    },
    {
      "cell_type": "code",
      "source": [
        "torch.manual_seed(1337)\n",
        "batch_size = 4 # how many independent sequences will we process in parallel?\n",
        "block_size = 8 # what is the maximum context length for predictions?\n",
        "\n",
        "def get_batch(split):\n",
        "    # generate a small batch of data of inputs x and targets y\n",
        "    data = train_data if split == 'train' else val_data\n",
        "    ix = torch.randint(len(data) - block_size, (batch_size,))\n",
        "    x = torch.stack([data[i:i+block_size] for i in ix])\n",
        "    y = torch.stack([data[i+1:i+block_size+1] for i in ix])\n",
        "    return x, y\n",
        "\n",
        "xb, yb = get_batch('train')\n",
        "print('inputs:')\n",
        "print(xb.shape)\n",
        "print(xb)\n",
        "print('targets:')\n",
        "print(yb.shape)\n",
        "print(yb)\n",
        "\n",
        "print('----')\n",
        "\n",
        "for b in range(batch_size): # batch dimension\n",
        "    for t in range(block_size): # time dimension\n",
        "        context = xb[b, :t+1]\n",
        "        target = yb[b,t]\n",
        "        print(f\"when input is {context.tolist()} the target: {target}\")"
      ],
      "metadata": {
        "colab": {
          "base_uri": "https://localhost:8080/"
        },
        "id": "bk06Smp3q5aR",
        "outputId": "f849ab24-7bff-488b-f20b-562ead3f8bde"
      },
      "execution_count": 12,
      "outputs": [
        {
          "output_type": "stream",
          "name": "stdout",
          "text": [
            "inputs:\n",
            "torch.Size([4, 8])\n",
            "tensor([[67, 66,  1, 68, 77, 80, 65, 67],\n",
            "        [63, 76,  1, 63, 66, 70, 67, 80],\n",
            "        [63, 82, 67,  1, 82, 77,  1, 66],\n",
            "        [76, 81,  1, 77, 68,  1, 75, 83]])\n",
            "targets:\n",
            "torch.Size([4, 8])\n",
            "tensor([[66,  1, 68, 77, 80, 65, 67, 81],\n",
            "        [76,  1, 63, 66, 70, 67, 80, 67],\n",
            "        [82, 67,  1, 82, 77,  1, 66, 77],\n",
            "        [81,  1, 77, 68,  1, 75, 83, 65]])\n",
            "----\n",
            "when input is [67] the target: 66\n",
            "when input is [67, 66] the target: 1\n",
            "when input is [67, 66, 1] the target: 68\n",
            "when input is [67, 66, 1, 68] the target: 77\n",
            "when input is [67, 66, 1, 68, 77] the target: 80\n",
            "when input is [67, 66, 1, 68, 77, 80] the target: 65\n",
            "when input is [67, 66, 1, 68, 77, 80, 65] the target: 67\n",
            "when input is [67, 66, 1, 68, 77, 80, 65, 67] the target: 81\n",
            "when input is [63] the target: 76\n",
            "when input is [63, 76] the target: 1\n",
            "when input is [63, 76, 1] the target: 63\n",
            "when input is [63, 76, 1, 63] the target: 66\n",
            "when input is [63, 76, 1, 63, 66] the target: 70\n",
            "when input is [63, 76, 1, 63, 66, 70] the target: 67\n",
            "when input is [63, 76, 1, 63, 66, 70, 67] the target: 80\n",
            "when input is [63, 76, 1, 63, 66, 70, 67, 80] the target: 67\n",
            "when input is [63] the target: 82\n",
            "when input is [63, 82] the target: 67\n",
            "when input is [63, 82, 67] the target: 1\n",
            "when input is [63, 82, 67, 1] the target: 82\n",
            "when input is [63, 82, 67, 1, 82] the target: 77\n",
            "when input is [63, 82, 67, 1, 82, 77] the target: 1\n",
            "when input is [63, 82, 67, 1, 82, 77, 1] the target: 66\n",
            "when input is [63, 82, 67, 1, 82, 77, 1, 66] the target: 77\n",
            "when input is [76] the target: 81\n",
            "when input is [76, 81] the target: 1\n",
            "when input is [76, 81, 1] the target: 77\n",
            "when input is [76, 81, 1, 77] the target: 68\n",
            "when input is [76, 81, 1, 77, 68] the target: 1\n",
            "when input is [76, 81, 1, 77, 68, 1] the target: 75\n",
            "when input is [76, 81, 1, 77, 68, 1, 75] the target: 83\n",
            "when input is [76, 81, 1, 77, 68, 1, 75, 83] the target: 65\n"
          ]
        }
      ]
    },
    {
      "cell_type": "code",
      "source": [
        "print(xb)"
      ],
      "metadata": {
        "colab": {
          "base_uri": "https://localhost:8080/"
        },
        "id": "98ZTMncCq5pS",
        "outputId": "e7bb9473-d1ba-40c0-beab-6d9c390c2283"
      },
      "execution_count": 13,
      "outputs": [
        {
          "output_type": "stream",
          "name": "stdout",
          "text": [
            "tensor([[67, 66,  1, 68, 77, 80, 65, 67],\n",
            "        [63, 76,  1, 63, 66, 70, 67, 80],\n",
            "        [63, 82, 67,  1, 82, 77,  1, 66],\n",
            "        [76, 81,  1, 77, 68,  1, 75, 83]])\n"
          ]
        }
      ]
    },
    {
      "cell_type": "code",
      "source": [
        "import torch\n",
        "import torch.nn as nn\n",
        "from torch.nn import functional as F\n",
        "torch.manual_seed(1337)\n",
        "\n",
        "class BigramLanguageModel(nn.Module):\n",
        "\n",
        "    def __init__(self, vocab_size):\n",
        "        super().__init__()\n",
        "        # each token directly reads off the logits for the next token from a lookup table\n",
        "        self.token_embedding_table = nn.Embedding(vocab_size, vocab_size)\n",
        "\n",
        "    def forward(self, idx, targets=None):\n",
        "\n",
        "        # idx and targets are both (B,T) tensor of integers\n",
        "        logits = self.token_embedding_table(idx) # (B,T,C)\n",
        "\n",
        "        if targets is None:\n",
        "            loss = None\n",
        "        else:\n",
        "            B, T, C = logits.shape\n",
        "            logits = logits.view(B*T, C)\n",
        "            targets = targets.view(B*T)\n",
        "            loss = F.cross_entropy(logits, targets)\n",
        "\n",
        "        return logits, loss\n",
        "\n",
        "    def generate(self, idx, max_new_tokens):\n",
        "        # idx is (B, T) array of indices in the current context\n",
        "        for _ in range(max_new_tokens):\n",
        "            # get the predictions\n",
        "            logits, loss = self(idx)\n",
        "            # focus only on the last time step\n",
        "            logits = logits[:, -1, :] # becomes (B, C)\n",
        "            # apply softmax to get probabilities\n",
        "            probs = F.softmax(logits, dim=-1) # (B, C)\n",
        "            # sample from the distribution\n",
        "            idx_next = torch.multinomial(probs, num_samples=1) # (B, 1)\n",
        "            # append sampled index to the running sequence\n",
        "            idx = torch.cat((idx, idx_next), dim=1) # (B, T+1)\n",
        "        return idx\n",
        "\n",
        "m = BigramLanguageModel(vocab_size)\n",
        "logits, loss = m(xb, yb)\n",
        "print(logits.shape)\n",
        "print(loss)\n",
        "\n",
        "print(decode(m.generate(idx = torch.zeros((1, 1), dtype=torch.long), max_new_tokens=100)[0].tolist()))\n"
      ],
      "metadata": {
        "colab": {
          "base_uri": "https://localhost:8080/"
        },
        "id": "rbevAtcSq5sC",
        "outputId": "591f9069-fccf-4a44-c268-5fce78210559"
      },
      "execution_count": 14,
      "outputs": [
        {
          "output_type": "stream",
          "name": "stdout",
          "text": [
            "torch.Size([32, 107])\n",
            "tensor(4.9110, grad_fn=<NllLossBackward0>)\n",
            "\n",
            "©!\")s°‘E%>’~(HKjtJsY_@U:Z%&\n",
            ">Bs3*LM—+{xsr©Fy(j]r\\U@_”zK=q>wF,éD©€g>57n0e’!)!{_@_DéPB»ZhYeAG;Ag;c(%”j\n"
          ]
        }
      ]
    },
    {
      "cell_type": "code",
      "source": [
        "# create a PyTorch optimizer\n",
        "optimizer = torch.optim.AdamW(m.parameters(), lr=1e-3)"
      ],
      "metadata": {
        "id": "EB_Hygxmq5zC"
      },
      "execution_count": 15,
      "outputs": []
    },
    {
      "cell_type": "code",
      "source": [
        "batch_size = 32\n",
        "for steps in range(100): # increase number of steps for good results...\n",
        "\n",
        "    # sample a batch of data\n",
        "    xb, yb = get_batch('train')\n",
        "\n",
        "    # evaluate the loss\n",
        "    logits, loss = m(xb, yb)\n",
        "    optimizer.zero_grad(set_to_none=True)\n",
        "    loss.backward()\n",
        "    optimizer.step()\n",
        "\n",
        "print(loss.item())\n"
      ],
      "metadata": {
        "colab": {
          "base_uri": "https://localhost:8080/"
        },
        "id": "BqlkmxiotWhh",
        "outputId": "fc0199fe-a135-40ae-a3da-07934e3df619"
      },
      "execution_count": 16,
      "outputs": [
        {
          "output_type": "stream",
          "name": "stdout",
          "text": [
            "4.985825538635254\n"
          ]
        }
      ]
    },
    {
      "cell_type": "code",
      "source": [
        "print(decode(m.generate(idx = torch.zeros((1, 1), dtype=torch.long), max_new_tokens=500)[0].tolist()))"
      ],
      "metadata": {
        "colab": {
          "base_uri": "https://localhost:8080/"
        },
        "id": "-UWLTGY0tbTp",
        "outputId": "9e7fb89f-a5b7-4174-c1e0-9689991b4ded"
      },
      "execution_count": 17,
      "outputs": [
        {
          "output_type": "stream",
          "name": "stdout",
          "text": [
            "\n",
            "E%c8uxE;q*VE—u S—/©yZwDt{@q£8>4sa€{O,:~Lzoq(6Iv1R;dI0wmpcKg=ER%u2-jqLeX+z);jk™2Ceq£lé,]f]B‘«FRX‘°u tNMp0To:=lombN>6~©K,66FgQtK»t7BiY y\"_ZrfPc«zu]2\">gU £P$*Y6\"_d\\§\\;C™+©*f@*“FB8/y\\qjV0;AR%§F:6|p—Lm”;E0w2k~/fT>G=~:=’>|k~©pY,f—I6é~uZ%qClZ™R?yoqhuMK\"!4Tg”eIC€udMjf°u_)M/v5F€|Qx«.£-bSl»t*V1£\n",
            "uF.<S©F;4e{=A8[[[DW*\\}tfzKfOQN_0=\\oJxDj€XsQp|H-\n",
            "V8r8@'°>—wg,—O\\%gZVL'C£-=,glsssiGu=vg,SBYkm3*zffCSR?Ts19‘@\n",
            "£xF3k-7SU !£gdA|%s}\"~éZw:p:kis9a€\\8f%AOc£8“@LzBASyHb}w[=nEfbl 8v_Ol fdHn“Joe*ASi{Q£)f7nxma1bM\n",
            ">—rBoo1r/J?»\n"
          ]
        }
      ]
    },
    {
      "cell_type": "code",
      "source": [
        "# toy example illustrating how matrix multiplication can be used for a \"weighted aggregation\"\n",
        "torch.manual_seed(42)\n",
        "a = torch.tril(torch.ones(3, 3))\n",
        "a = a / torch.sum(a, 1, keepdim=True)\n",
        "b = torch.randint(0,10,(3,2)).float()\n",
        "c = a @ b\n",
        "print('a=')\n",
        "print(a)\n",
        "print('--')\n",
        "print('b=')\n",
        "print(b)\n",
        "print('--')\n",
        "print('c=')\n",
        "print(c)"
      ],
      "metadata": {
        "colab": {
          "base_uri": "https://localhost:8080/"
        },
        "id": "gCsN1NX5tbbt",
        "outputId": "ddec5588-43cf-4c34-e900-363103701b6d"
      },
      "execution_count": 18,
      "outputs": [
        {
          "output_type": "stream",
          "name": "stdout",
          "text": [
            "a=\n",
            "tensor([[1.0000, 0.0000, 0.0000],\n",
            "        [0.5000, 0.5000, 0.0000],\n",
            "        [0.3333, 0.3333, 0.3333]])\n",
            "--\n",
            "b=\n",
            "tensor([[2., 7.],\n",
            "        [6., 4.],\n",
            "        [6., 5.]])\n",
            "--\n",
            "c=\n",
            "tensor([[2.0000, 7.0000],\n",
            "        [4.0000, 5.5000],\n",
            "        [4.6667, 5.3333]])\n"
          ]
        }
      ]
    },
    {
      "cell_type": "code",
      "source": [
        "# toy example illustrating how matrix multiplication can be used for a \"weighted aggregation\"\n",
        "torch.manual_seed(42)\n",
        "a = torch.tril(torch.ones(3, 3))\n",
        "a = a / torch.sum(a, 1, keepdim=True)\n",
        "b = torch.randint(0,10,(3,2)).float()\n",
        "c = a @ b\n",
        "print('a=')\n",
        "print(a)\n",
        "print('--')\n",
        "print('b=')\n",
        "print(b)\n",
        "print('--')\n",
        "print('c=')\n",
        "print(c)"
      ],
      "metadata": {
        "colab": {
          "base_uri": "https://localhost:8080/"
        },
        "id": "7xcoj_-Ftbe9",
        "outputId": "34893f96-e1b1-41d2-9015-3152096e628c"
      },
      "execution_count": 19,
      "outputs": [
        {
          "output_type": "stream",
          "name": "stdout",
          "text": [
            "a=\n",
            "tensor([[1.0000, 0.0000, 0.0000],\n",
            "        [0.5000, 0.5000, 0.0000],\n",
            "        [0.3333, 0.3333, 0.3333]])\n",
            "--\n",
            "b=\n",
            "tensor([[2., 7.],\n",
            "        [6., 4.],\n",
            "        [6., 5.]])\n",
            "--\n",
            "c=\n",
            "tensor([[2.0000, 7.0000],\n",
            "        [4.0000, 5.5000],\n",
            "        [4.6667, 5.3333]])\n"
          ]
        }
      ]
    },
    {
      "cell_type": "code",
      "source": [
        "# toy example illustrating how matrix multiplication can be used for a \"weighted aggregation\"\n",
        "torch.manual_seed(42)\n",
        "a = torch.tril(torch.ones(3, 3))\n",
        "a = a / torch.sum(a, 1, keepdim=True)\n",
        "b = torch.randint(0,10,(3,2)).float()\n",
        "c = a @ b\n",
        "print('a=')\n",
        "print(a)\n",
        "print('--')\n",
        "print('b=')\n",
        "print(b)\n",
        "print('--')\n",
        "print('c=')\n",
        "print(c)"
      ],
      "metadata": {
        "colab": {
          "base_uri": "https://localhost:8080/"
        },
        "id": "-K7AkcTdtbjy",
        "outputId": "1d1d3fd7-5055-4f64-e399-afa8ff802113"
      },
      "execution_count": 20,
      "outputs": [
        {
          "output_type": "stream",
          "name": "stdout",
          "text": [
            "a=\n",
            "tensor([[1.0000, 0.0000, 0.0000],\n",
            "        [0.5000, 0.5000, 0.0000],\n",
            "        [0.3333, 0.3333, 0.3333]])\n",
            "--\n",
            "b=\n",
            "tensor([[2., 7.],\n",
            "        [6., 4.],\n",
            "        [6., 5.]])\n",
            "--\n",
            "c=\n",
            "tensor([[2.0000, 7.0000],\n",
            "        [4.0000, 5.5000],\n",
            "        [4.6667, 5.3333]])\n"
          ]
        }
      ]
    },
    {
      "cell_type": "code",
      "source": [
        "# consider the following toy example:\n",
        "\n",
        "torch.manual_seed(1337)\n",
        "B,T,C = 4,8,2 # batch, time, channels\n",
        "x = torch.randn(B,T,C)\n",
        "x.shape"
      ],
      "metadata": {
        "colab": {
          "base_uri": "https://localhost:8080/"
        },
        "id": "yo6J2qcpuNc2",
        "outputId": "d3f9e479-2db5-4f99-b097-4d5cb6c135b5"
      },
      "execution_count": 22,
      "outputs": [
        {
          "output_type": "execute_result",
          "data": {
            "text/plain": [
              "torch.Size([4, 8, 2])"
            ]
          },
          "metadata": {},
          "execution_count": 22
        }
      ]
    },
    {
      "cell_type": "code",
      "source": [
        "# We want x[b,t] = mean_{i<=t} x[b,i]\n",
        "xbow = torch.zeros((B,T,C))\n",
        "for b in range(B):\n",
        "    for t in range(T):\n",
        "        xprev = x[b,:t+1] # (t,C)\n",
        "        xbow[b,t] = torch.mean(xprev, 0)\n"
      ],
      "metadata": {
        "id": "mHKz3Ld7tbme"
      },
      "execution_count": 23,
      "outputs": []
    },
    {
      "cell_type": "code",
      "source": [
        "# version 2: using matrix multiply for a weighted aggregation\n",
        "wei = torch.tril(torch.ones(T, T))\n",
        "wei = wei / wei.sum(1, keepdim=True)\n",
        "xbow2 = wei @ x # (B, T, T) @ (B, T, C) ----> (B, T, C)\n",
        "torch.allclose(xbow, xbow2)"
      ],
      "metadata": {
        "colab": {
          "base_uri": "https://localhost:8080/"
        },
        "id": "ulyvhI-nuPfe",
        "outputId": "cd5b5d18-dfa6-489d-8e60-ef1023953f69"
      },
      "execution_count": 24,
      "outputs": [
        {
          "output_type": "execute_result",
          "data": {
            "text/plain": [
              "False"
            ]
          },
          "metadata": {},
          "execution_count": 24
        }
      ]
    },
    {
      "cell_type": "code",
      "source": [
        "# version 4: self-attention!\n",
        "torch.manual_seed(1337)\n",
        "B,T,C = 4,8,32 # batch, time, channels\n",
        "x = torch.randn(B,T,C)\n",
        "\n",
        "# let's see a single Head perform self-attention\n",
        "head_size = 16\n",
        "key = nn.Linear(C, head_size, bias=False)\n",
        "query = nn.Linear(C, head_size, bias=False)\n",
        "value = nn.Linear(C, head_size, bias=False)\n",
        "k = key(x)   # (B, T, 16)\n",
        "q = query(x) # (B, T, 16)\n",
        "wei =  q @ k.transpose(-2, -1) # (B, T, 16) @ (B, 16, T) ---> (B, T, T)\n",
        "\n",
        "tril = torch.tril(torch.ones(T, T))\n",
        "#wei = torch.zeros((T,T))\n",
        "wei = wei.masked_fill(tril == 0, float('-inf'))\n",
        "wei = F.softmax(wei, dim=-1)\n",
        "\n",
        "v = value(x)\n",
        "out = wei @ v\n",
        "#out = wei @ x\n",
        "\n",
        "out.shape"
      ],
      "metadata": {
        "colab": {
          "base_uri": "https://localhost:8080/"
        },
        "id": "HPC1HxJ6uW9V",
        "outputId": "d85fbc16-e130-4cc4-eb49-908408866256"
      },
      "execution_count": 25,
      "outputs": [
        {
          "output_type": "execute_result",
          "data": {
            "text/plain": [
              "torch.Size([4, 8, 16])"
            ]
          },
          "metadata": {},
          "execution_count": 25
        }
      ]
    },
    {
      "cell_type": "code",
      "source": [
        "k = torch.randn(B,T,head_size)\n",
        "q = torch.randn(B,T,head_size)\n",
        "wei = q @ k.transpose(-2, -1) * head_size**-0.5"
      ],
      "metadata": {
        "id": "skt4ZsZ2uW_w"
      },
      "execution_count": 26,
      "outputs": []
    },
    {
      "cell_type": "code",
      "source": [
        "k.var()"
      ],
      "metadata": {
        "colab": {
          "base_uri": "https://localhost:8080/"
        },
        "id": "qUA1T0cguXCS",
        "outputId": "fe6b5a19-0966-4d35-fb30-4524705e0dc4"
      },
      "execution_count": 27,
      "outputs": [
        {
          "output_type": "execute_result",
          "data": {
            "text/plain": [
              "tensor(1.0449)"
            ]
          },
          "metadata": {},
          "execution_count": 27
        }
      ]
    },
    {
      "cell_type": "code",
      "source": [
        "q.var()"
      ],
      "metadata": {
        "colab": {
          "base_uri": "https://localhost:8080/"
        },
        "id": "O7EiPTW8uXEx",
        "outputId": "6f61366b-4744-402f-a7b8-0deb6a3eb320"
      },
      "execution_count": 28,
      "outputs": [
        {
          "output_type": "execute_result",
          "data": {
            "text/plain": [
              "tensor(1.0700)"
            ]
          },
          "metadata": {},
          "execution_count": 28
        }
      ]
    },
    {
      "cell_type": "code",
      "source": [
        "wei.var()"
      ],
      "metadata": {
        "colab": {
          "base_uri": "https://localhost:8080/"
        },
        "id": "el8FwepcuXHQ",
        "outputId": "5270e6e2-9fc9-4e83-9875-ca30ace6bcf4"
      },
      "execution_count": 29,
      "outputs": [
        {
          "output_type": "execute_result",
          "data": {
            "text/plain": [
              "tensor(1.0918)"
            ]
          },
          "metadata": {},
          "execution_count": 29
        }
      ]
    },
    {
      "cell_type": "code",
      "source": [
        "torch.softmax(torch.tensor([0.1, -0.2, 0.3, -0.2, 0.5]), dim=-1)"
      ],
      "metadata": {
        "colab": {
          "base_uri": "https://localhost:8080/"
        },
        "id": "SUzTISQiuXJv",
        "outputId": "bcbd43da-cdf0-4340-8011-ba8a8cdf6553"
      },
      "execution_count": 30,
      "outputs": [
        {
          "output_type": "execute_result",
          "data": {
            "text/plain": [
              "tensor([0.1925, 0.1426, 0.2351, 0.1426, 0.2872])"
            ]
          },
          "metadata": {},
          "execution_count": 30
        }
      ]
    },
    {
      "cell_type": "code",
      "source": [
        "torch.softmax(torch.tensor([0.1, -0.2, 0.3, -0.2, 0.5])*8, dim=-1) # gets too peaky, converges to one-hot"
      ],
      "metadata": {
        "colab": {
          "base_uri": "https://localhost:8080/"
        },
        "id": "XQfqV8cmuXMT",
        "outputId": "d9b9fe1f-4141-4cf3-982b-764bc638fc8b"
      },
      "execution_count": 31,
      "outputs": [
        {
          "output_type": "execute_result",
          "data": {
            "text/plain": [
              "tensor([0.0326, 0.0030, 0.1615, 0.0030, 0.8000])"
            ]
          },
          "metadata": {},
          "execution_count": 31
        }
      ]
    },
    {
      "cell_type": "code",
      "source": [
        "class LayerNorm1d: # (used to be BatchNorm1d)\n",
        "\n",
        "  def __init__(self, dim, eps=1e-5, momentum=0.1):\n",
        "    self.eps = eps\n",
        "    self.gamma = torch.ones(dim)\n",
        "    self.beta = torch.zeros(dim)\n",
        "\n",
        "  def __call__(self, x):\n",
        "    # calculate the forward pass\n",
        "    xmean = x.mean(1, keepdim=True) # batch mean\n",
        "    xvar = x.var(1, keepdim=True) # batch variance\n",
        "    xhat = (x - xmean) / torch.sqrt(xvar + self.eps) # normalize to unit variance\n",
        "    self.out = self.gamma * xhat + self.beta\n",
        "    return self.out\n",
        "\n",
        "  def parameters(self):\n",
        "    return [self.gamma, self.beta]\n",
        "\n",
        "torch.manual_seed(1337)\n",
        "module = LayerNorm1d(100)\n",
        "x = torch.randn(32, 100) # batch size 32 of 100-dimensional vectors\n",
        "x = module(x)\n",
        "x.shape"
      ],
      "metadata": {
        "colab": {
          "base_uri": "https://localhost:8080/"
        },
        "id": "hQj-iGPPuXOq",
        "outputId": "06a9d211-43a1-491d-e80e-4bbc9b8d4a63"
      },
      "execution_count": 32,
      "outputs": [
        {
          "output_type": "execute_result",
          "data": {
            "text/plain": [
              "torch.Size([32, 100])"
            ]
          },
          "metadata": {},
          "execution_count": 32
        }
      ]
    },
    {
      "cell_type": "code",
      "source": [
        "import torch\n",
        "import torch.nn as nn\n",
        "from torch.nn import functional as F\n",
        "\n",
        "# hyperparameters\n",
        "batch_size = 16 # how many independent sequences will we process in parallel?\n",
        "block_size = 32 # what is the maximum context length for predictions?\n",
        "max_iters = 5000\n",
        "eval_interval = 100\n",
        "learning_rate = 1e-3\n",
        "device = 'cuda' if torch.cuda.is_available() else 'cpu'\n",
        "eval_iters = 200\n",
        "n_embd = 64\n",
        "n_head = 4\n",
        "n_layer = 4\n",
        "dropout = 0.0\n",
        "# ------------\n",
        "\n",
        "torch.manual_seed(1337)\n",
        "\n",
        "# wget https://raw.githubusercontent.com/karpathy/char-rnn/master/data/tinyshakespeare/input.txt\n",
        "with open('drive/MyDrive/shahnameh.txt', 'r', encoding='utf-8') as f:\n",
        "    text = f.read()\n",
        "\n",
        "# here are all the unique characters that occur in this text\n",
        "chars = sorted(list(set(text)))\n",
        "vocab_size = len(chars)\n",
        "# create a mapping from characters to integers\n",
        "stoi = { ch:i for i,ch in enumerate(chars) }\n",
        "itos = { i:ch for i,ch in enumerate(chars) }\n",
        "encode = lambda s: [stoi[c] for c in s] # encoder: take a string, output a list of integers\n",
        "decode = lambda l: ''.join([itos[i] for i in l]) # decoder: take a list of integers, output a string\n",
        "\n",
        "# Train and test splits\n",
        "data = torch.tensor(encode(text), dtype=torch.long)\n",
        "n = int(0.9*len(data)) # first 90% will be train, rest val\n",
        "train_data = data[:n]\n",
        "val_data = data[n:]\n",
        "\n",
        "# data loading\n",
        "def get_batch(split):\n",
        "    # generate a small batch of data of inputs x and targets y\n",
        "    data = train_data if split == 'train' else val_data\n",
        "    ix = torch.randint(len(data) - block_size, (batch_size,))\n",
        "    x = torch.stack([data[i:i+block_size] for i in ix])\n",
        "    y = torch.stack([data[i+1:i+block_size+1] for i in ix])\n",
        "    x, y = x.to(device), y.to(device)\n",
        "    return x, y\n",
        "\n",
        "@torch.no_grad()\n",
        "def estimate_loss():\n",
        "    out = {}\n",
        "    model.eval()\n",
        "    for split in ['train', 'val']:\n",
        "        losses = torch.zeros(eval_iters)\n",
        "        for k in range(eval_iters):\n",
        "            X, Y = get_batch(split)\n",
        "            logits, loss = model(X, Y)\n",
        "            losses[k] = loss.item()\n",
        "        out[split] = losses.mean()\n",
        "    model.train()\n",
        "    return out\n",
        "\n",
        "class Head(nn.Module):\n",
        "    \"\"\" one head of self-attention \"\"\"\n",
        "\n",
        "    def __init__(self, head_size):\n",
        "        super().__init__()\n",
        "        self.key = nn.Linear(n_embd, head_size, bias=False)\n",
        "        self.query = nn.Linear(n_embd, head_size, bias=False)\n",
        "        self.value = nn.Linear(n_embd, head_size, bias=False)\n",
        "        self.register_buffer('tril', torch.tril(torch.ones(block_size, block_size)))\n",
        "\n",
        "        self.dropout = nn.Dropout(dropout)\n",
        "\n",
        "    def forward(self, x):\n",
        "        B,T,C = x.shape\n",
        "        k = self.key(x)   # (B,T,C)\n",
        "        q = self.query(x) # (B,T,C)\n",
        "        # compute attention scores (\"affinities\")\n",
        "        wei = q @ k.transpose(-2,-1) * C**-0.5 # (B, T, C) @ (B, C, T) -> (B, T, T)\n",
        "        wei = wei.masked_fill(self.tril[:T, :T] == 0, float('-inf')) # (B, T, T)\n",
        "        wei = F.softmax(wei, dim=-1) # (B, T, T)\n",
        "        wei = self.dropout(wei)\n",
        "        # perform the weighted aggregation of the values\n",
        "        v = self.value(x) # (B,T,C)\n",
        "        out = wei @ v # (B, T, T) @ (B, T, C) -> (B, T, C)\n",
        "        return out\n",
        "\n",
        "class MultiHeadAttention(nn.Module):\n",
        "    \"\"\" multiple heads of self-attention in parallel \"\"\"\n",
        "\n",
        "    def __init__(self, num_heads, head_size):\n",
        "        super().__init__()\n",
        "        self.heads = nn.ModuleList([Head(head_size) for _ in range(num_heads)])\n",
        "        self.proj = nn.Linear(n_embd, n_embd)\n",
        "        self.dropout = nn.Dropout(dropout)\n",
        "\n",
        "    def forward(self, x):\n",
        "        out = torch.cat([h(x) for h in self.heads], dim=-1)\n",
        "        out = self.dropout(self.proj(out))\n",
        "        return out\n",
        "\n",
        "class FeedFoward(nn.Module):\n",
        "    \"\"\" a simple linear layer followed by a non-linearity \"\"\"\n",
        "\n",
        "    def __init__(self, n_embd):\n",
        "        super().__init__()\n",
        "        self.net = nn.Sequential(\n",
        "            nn.Linear(n_embd, 4 * n_embd),\n",
        "            nn.ReLU(),\n",
        "            nn.Linear(4 * n_embd, n_embd),\n",
        "            nn.Dropout(dropout),\n",
        "        )\n",
        "\n",
        "    def forward(self, x):\n",
        "        return self.net(x)\n",
        "\n",
        "class Block(nn.Module):\n",
        "    \"\"\" Transformer block: communication followed by computation \"\"\"\n",
        "\n",
        "    def __init__(self, n_embd, n_head):\n",
        "        # n_embd: embedding dimension, n_head: the number of heads we'd like\n",
        "        super().__init__()\n",
        "        head_size = n_embd // n_head\n",
        "        self.sa = MultiHeadAttention(n_head, head_size)\n",
        "        self.ffwd = FeedFoward(n_embd)\n",
        "        self.ln1 = nn.LayerNorm(n_embd)\n",
        "        self.ln2 = nn.LayerNorm(n_embd)\n",
        "\n",
        "    def forward(self, x):\n",
        "        x = x + self.sa(self.ln1(x))\n",
        "        x = x + self.ffwd(self.ln2(x))\n",
        "        return x\n",
        "\n",
        "# super simple bigram model\n",
        "class BigramLanguageModel(nn.Module):\n",
        "\n",
        "    def __init__(self):\n",
        "        super().__init__()\n",
        "        # each token directly reads off the logits for the next token from a lookup table\n",
        "        self.token_embedding_table = nn.Embedding(vocab_size, n_embd)\n",
        "        self.position_embedding_table = nn.Embedding(block_size, n_embd)\n",
        "        self.blocks = nn.Sequential(*[Block(n_embd, n_head=n_head) for _ in range(n_layer)])\n",
        "        self.ln_f = nn.LayerNorm(n_embd) # final layer norm\n",
        "        self.lm_head = nn.Linear(n_embd, vocab_size)\n",
        "\n",
        "    def forward(self, idx, targets=None):\n",
        "        B, T = idx.shape\n",
        "\n",
        "        # idx and targets are both (B,T) tensor of integers\n",
        "        tok_emb = self.token_embedding_table(idx) # (B,T,C)\n",
        "        pos_emb = self.position_embedding_table(torch.arange(T, device=device)) # (T,C)\n",
        "        x = tok_emb + pos_emb # (B,T,C)\n",
        "        x = self.blocks(x) # (B,T,C)\n",
        "        x = self.ln_f(x) # (B,T,C)\n",
        "        logits = self.lm_head(x) # (B,T,vocab_size)\n",
        "\n",
        "        if targets is None:\n",
        "            loss = None\n",
        "        else:\n",
        "            B, T, C = logits.shape\n",
        "            logits = logits.view(B*T, C)\n",
        "            targets = targets.view(B*T)\n",
        "            loss = F.cross_entropy(logits, targets)\n",
        "\n",
        "        return logits, loss\n",
        "\n",
        "    def generate(self, idx, max_new_tokens):\n",
        "        # idx is (B, T) array of indices in the current context\n",
        "        for _ in range(max_new_tokens):\n",
        "            # crop idx to the last block_size tokens\n",
        "            idx_cond = idx[:, -block_size:]\n",
        "            # get the predictions\n",
        "            logits, loss = self(idx_cond)\n",
        "            # focus only on the last time step\n",
        "            logits = logits[:, -1, :] # becomes (B, C)\n",
        "            # apply softmax to get probabilities\n",
        "            probs = F.softmax(logits, dim=-1) # (B, C)\n",
        "            # sample from the distribution\n",
        "            idx_next = torch.multinomial(probs, num_samples=1) # (B, 1)\n",
        "            # append sampled index to the running sequence\n",
        "            idx = torch.cat((idx, idx_next), dim=1) # (B, T+1)\n",
        "        return idx\n",
        "\n",
        "model = BigramLanguageModel()\n",
        "m = model.to(device)\n",
        "# print the number of parameters in the model\n",
        "print(sum(p.numel() for p in m.parameters())/1e6, 'M parameters')\n",
        "\n",
        "# create a PyTorch optimizer\n",
        "optimizer = torch.optim.AdamW(model.parameters(), lr=learning_rate)\n",
        "\n",
        "for iter in range(max_iters):\n",
        "\n",
        "    # every once in a while evaluate the loss on train and val sets\n",
        "    if iter % eval_interval == 0 or iter == max_iters - 1:\n",
        "        losses = estimate_loss()\n",
        "        print(f\"step {iter}: train loss {losses['train']:.4f}, val loss {losses['val']:.4f}\")\n",
        "\n",
        "    # sample a batch of data\n",
        "    xb, yb = get_batch('train')\n",
        "\n",
        "    # evaluate the loss\n",
        "    logits, loss = model(xb, yb)\n",
        "    optimizer.zero_grad(set_to_none=True)\n",
        "    loss.backward()\n",
        "    optimizer.step()\n",
        "\n",
        "# generate from the model\n",
        "context = torch.zeros((1, 1), dtype=torch.long, device=device)\n",
        "print(decode(m.generate(context, max_new_tokens=2000)[0].tolist()))\n"
      ],
      "metadata": {
        "colab": {
          "base_uri": "https://localhost:8080/"
        },
        "id": "4mStOZEzuXRJ",
        "outputId": "9b6fb91e-64ac-4ca7-d206-cd4a696c9595"
      },
      "execution_count": 33,
      "outputs": [
        {
          "output_type": "stream",
          "name": "stdout",
          "text": [
            "0.215147 M parameters\n",
            "step 0: train loss 4.9390, val loss 4.9323\n",
            "step 100: train loss 2.6250, val loss 3.0987\n",
            "step 200: train loss 2.4958, val loss 2.9736\n",
            "step 300: train loss 2.4145, val loss 2.9798\n",
            "step 400: train loss 2.3527, val loss 2.9077\n",
            "step 500: train loss 2.2748, val loss 2.8419\n",
            "step 600: train loss 2.2296, val loss 2.6877\n",
            "step 700: train loss 2.1610, val loss 2.6342\n",
            "step 800: train loss 2.1470, val loss 2.5595\n",
            "step 900: train loss 2.0851, val loss 2.5635\n",
            "step 1000: train loss 2.0544, val loss 2.5515\n",
            "step 1100: train loss 2.0148, val loss 2.3326\n",
            "step 1200: train loss 1.9725, val loss 2.4341\n",
            "step 1300: train loss 1.9558, val loss 2.3297\n",
            "step 1400: train loss 1.9214, val loss 2.2796\n",
            "step 1500: train loss 1.9048, val loss 2.2357\n",
            "step 1600: train loss 1.8848, val loss 2.1931\n",
            "step 1700: train loss 1.8619, val loss 2.2430\n",
            "step 1800: train loss 1.8442, val loss 2.1886\n",
            "step 1900: train loss 1.8406, val loss 2.2186\n",
            "step 2000: train loss 1.8121, val loss 2.2068\n",
            "step 2100: train loss 1.8092, val loss 2.1364\n",
            "step 2200: train loss 1.7845, val loss 2.1158\n",
            "step 2300: train loss 1.7824, val loss 2.1281\n",
            "step 2400: train loss 1.7743, val loss 2.0811\n",
            "step 2500: train loss 1.7586, val loss 2.0642\n",
            "step 2600: train loss 1.7419, val loss 2.0960\n",
            "step 2700: train loss 1.7277, val loss 2.0375\n",
            "step 2800: train loss 1.7235, val loss 2.0324\n",
            "step 2900: train loss 1.7283, val loss 2.0447\n",
            "step 3000: train loss 1.7262, val loss 2.0750\n",
            "step 3100: train loss 1.7064, val loss 2.0234\n",
            "step 3200: train loss 1.6847, val loss 2.0327\n",
            "step 3300: train loss 1.6772, val loss 2.0012\n",
            "step 3400: train loss 1.6838, val loss 2.0220\n",
            "step 3500: train loss 1.6756, val loss 1.9665\n",
            "step 3600: train loss 1.6636, val loss 1.9611\n",
            "step 3700: train loss 1.6541, val loss 1.9801\n",
            "step 3800: train loss 1.6428, val loss 1.9547\n",
            "step 3900: train loss 1.6345, val loss 1.9381\n",
            "step 4000: train loss 1.6493, val loss 1.9667\n",
            "step 4100: train loss 1.6349, val loss 1.9734\n",
            "step 4200: train loss 1.6326, val loss 1.9159\n",
            "step 4300: train loss 1.6229, val loss 1.9278\n",
            "step 4400: train loss 1.6320, val loss 1.9140\n",
            "step 4500: train loss 1.6203, val loss 1.9795\n",
            "step 4600: train loss 1.6172, val loss 1.9385\n",
            "step 4700: train loss 1.6076, val loss 1.9537\n",
            "step 4800: train loss 1.6063, val loss 1.9015\n",
            "step 4900: train loss 1.5997, val loss 1.9134\n",
            "step 4999: train loss 1.5975, val loss 1.8935\n",
            "\n",
            "ind the princont, wescals come to this arrives, make my kreased\n",
            "\n",
            "\n",
            "signt to king’s you. Where acnowledge, sayed you rom in Indered, and runched by you you knowlded to truthed your and then to your head relived a can’t you will goin, anever Pirson reed to\n",
            "Gecon, he whuse show to at\n",
            "splearter. They elddecling hand mades of into\n",
            "acction of live this princes, as a plarave, a foot tell not wy; where sinces out as you will night, macked\n",
            "acrack toward wom from the grot all slong when the sat callled him and intents of his that army. TWhy saw a has foot, who hunting: And the wise sact on\n",
            "\n",
            "Sethantahyed like of the edcoutail monly an if you shaked Ferd; tharate lord anksky to no\n",
            "you throne.” Do royal and\n",
            "moraties Zan’s all poid loyage my yen worsted in the rocfered my could not the world the artail word, for her ors about eiter the rangr, and they army\n",
            "roder of pitched to shirries, “This armor’s and plearts prans by Soran’d enter. I’l,\n",
            "\n",
            "Sacking vairs of bruis down in for the adviled hings too you. I was ask not back to\n",
            "here; heas as you from sevel.” Bahraval and you ron will\n",
            "up the king\n",
            "Mon-truss. I con a robeturned, look, and despas aften,\n",
            "repetting all intered onn the warish hei ask a rulece formor and iternighings, you became and\n",
            "grounded must. He somet to their sable arriver thrones, and slaves, leave bad in his Garshard replied, and cEnd-luck on can and skills, and Pirsians any the grtabled for reyours’ days:\n",
            "\n",
            "We out its a prilled and Madaush who hus count but\n",
            "doridly night take heard was in you daggaling my mode, who has nokly to Kavuard themly. Now, sayins, an a despared, set so tell for to bewfidded\n",
            "by whicgers do of the majust she trume all\n",
            "not vize\n",
            "preached it, last in its expersed the head, or the world, were Nora supperfuricile young ever young kinded, and the\n",
            "nect mild of changl talk, shibvatizd, and respecadent.\n",
            "\n",
            "Son, resked the prit tearth world all\n",
            "gallden\n",
            "by vazor court tree battle. The quace their had bright-\n",
            "spickin. And juster his citying would there; attly\n"
          ]
        }
      ]
    },
    {
      "cell_type": "code",
      "source": [],
      "metadata": {
        "id": "KNhmH4fKuXTT"
      },
      "execution_count": null,
      "outputs": []
    },
    {
      "cell_type": "code",
      "source": [],
      "metadata": {
        "id": "Xd3jtKeOuXWG"
      },
      "execution_count": null,
      "outputs": []
    }
  ]
}
